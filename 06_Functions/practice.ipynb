{
 "cells": [
  {
   "cell_type": "markdown",
   "id": "7dbedf88",
   "metadata": {
    "notebookRunGroups": {
     "groupValue": "1"
    }
   },
   "source": [
    "### ask: Create a function greet_user(name) that prints:\n",
    "#### \"Hello, <name>! Welcome back.\""
   ]
  },
  {
   "cell_type": "code",
   "execution_count": null,
   "id": "fa54f552",
   "metadata": {},
   "outputs": [
    {
     "name": "stdout",
     "output_type": "stream",
     "text": [
      "Hello, Moiz ! Welcome back. \n"
     ]
    }
   ],
   "source": [
    "def greet_name(name):\n",
    "    print(f\"Hello, {name}! Welcome back. \")\n",
    "greet_name(\"Moiz\")"
   ]
  },
  {
   "cell_type": "markdown",
   "id": "a0d75a3a",
   "metadata": {},
   "source": [
    "### Task: \n",
    "##### Create a function check_even_odd(num) that:\n",
    "##### Returns \"Even\" if the number is even\n",
    "##### Returns \"Odd\" if the number is odd\n",
    "\n"
   ]
  },
  {
   "cell_type": "code",
   "execution_count": 2,
   "id": "e692a405",
   "metadata": {},
   "outputs": [
    {
     "name": "stdout",
     "output_type": "stream",
     "text": [
      "This value 324 is Even\n",
      "This value 123 is Odd\n",
      "This value 0 is Even\n"
     ]
    }
   ],
   "source": [
    "def check_even_odd(num):\n",
    "    if num % 2 == 0:\n",
    "        print(f\"This value {num} is Even\")\n",
    "    elif num % 2 != 0:\n",
    "        print(f\"This value {num} is Odd\")\n",
    "    else:\n",
    "        print(\"Invalid Input\")\n",
    "\n",
    "check_even_odd(324)\n",
    "check_even_odd(123)\n",
    "check_even_odd(0)"
   ]
  },
  {
   "cell_type": "markdown",
   "id": "92ad8be6",
   "metadata": {},
   "source": [
    "### Task: Create a function calculate(num1, num2, operator)\n",
    "##### Supported operators: +, -, *, /"
   ]
  },
  {
   "cell_type": "code",
   "execution_count": 3,
   "id": "895e38d9",
   "metadata": {},
   "outputs": [
    {
     "name": "stdout",
     "output_type": "stream",
     "text": [
      "Select An Operator\n",
      "1. Addition\n",
      "2. Subtraction\n",
      "3. Multiplication\n",
      "4. Division\n",
      "The product of 12 and 23 is: 276\n"
     ]
    }
   ],
   "source": [
    "num1 = int(input(\"Enter first number: \"))\n",
    "num2 = int(input(\"Enter second number: \"))\n",
    "print(\"Select An Operator\")\n",
    "operator = [\"Addition\", \"Subtraction\", \"Multiplication\", \"Division\"]\n",
    "for i in range(len(operator)):\n",
    "    print(f\"{i+1}. {operator[i]}\")\n",
    "choice = int(input(\"Enter your choice: \"))\n",
    "if choice == 1:\n",
    "    print(f\"The sum of {num1} and {num2} is: {num1 + num2}\")\n",
    "elif choice == 2:\n",
    "    print(f\"The difference of {num1} and {num2} is: {num1 - num2}\")\n",
    "elif choice == 3:\n",
    "    print(f\"The product of {num1} and {num2} is: {num1 * num2}\")\n",
    "elif choice == 4:\n",
    "    if num2 != 0:\n",
    "        print(f\"The division of {num1} and {num2} is: {num1 / num2}\")\n",
    "    else:\n",
    "        print(\"Division by zero is not allowed.\")\n",
    "else:\n",
    "    print(\"Invalid choice. Please select a valid operator.\")    "
   ]
  },
  {
   "cell_type": "markdown",
   "id": "3cc5d072",
   "metadata": {},
   "source": [
    "##### task: Create a function factorial(n) that returns the factorial of a number n.\n",
    "\n"
   ]
  },
  {
   "cell_type": "code",
   "execution_count": 5,
   "id": "238687b0",
   "metadata": {},
   "outputs": [
    {
     "name": "stdout",
     "output_type": "stream",
     "text": [
      "The factorial of 3 is 6\n"
     ]
    }
   ],
   "source": [
    "def factorial(n):\n",
    "    if n < 0:\n",
    "        print(\"Factorial is not defined for negative numbers.\")\n",
    "    elif n == 0 or n == 1:\n",
    "        print(f\"The factorial of {n} is 1\")\n",
    "    else:\n",
    "        result = 1\n",
    "        for i in range(2, n + 1):\n",
    "            result *= i\n",
    "        print(f\"The factorial of {n} is {result}\")\n",
    "\n",
    "factorial(3)"
   ]
  },
  {
   "cell_type": "markdown",
   "id": "27f7be0f",
   "metadata": {},
   "source": [
    "##### Task: Create a function count_vowels(text) that counts how many vowels (a, e, i, o, u) are in the string.\n",
    "\n"
   ]
  },
  {
   "cell_type": "code",
   "execution_count": 7,
   "id": "7bfa3446",
   "metadata": {},
   "outputs": [
    {
     "name": "stdout",
     "output_type": "stream",
     "text": [
      "The number of vowels in the text is: 4\n"
     ]
    }
   ],
   "source": [
    "def count_vowels(text):\n",
    "    vowels = \"aeiouAEIOU\"\n",
    "    count = 0\n",
    "    for char in text:\n",
    "        if char in vowels:\n",
    "            count += 1\n",
    "    print(f\"The number of vowels in the text is: {count}\")\n",
    "count_vowels(\"Abdul Moiz\")"
   ]
  },
  {
   "cell_type": "markdown",
   "id": "2ebda796",
   "metadata": {},
   "source": [
    "##### Task: Create a function find_max(numbers) that takes a list and returns the largest number."
   ]
  },
  {
   "cell_type": "code",
   "execution_count": 9,
   "id": "be6c42f6",
   "metadata": {},
   "outputs": [
    {
     "name": "stdout",
     "output_type": "stream",
     "text": [
      "The largest number in the list is: 89\n"
     ]
    }
   ],
   "source": [
    "def find_max(numbers):\n",
    "    if not numbers:\n",
    "        print(\"The list is empty.\")\n",
    "        return\n",
    "    max_num = numbers[0]\n",
    "    for num in numbers:\n",
    "        if num > max_num:\n",
    "            max_num = num\n",
    "    print(f\"The largest number in the list is: {max_num}\")\n",
    "find_max([12,34,56,78,24,76,89])"
   ]
  },
  {
   "cell_type": "markdown",
   "id": "d0b77c61",
   "metadata": {},
   "source": [
    "#### Task: Create a function grade(marks) that returns:\n",
    "\n",
    "#### \"A\" if marks ≥ 80\n",
    "\n",
    "#### \"B\" if marks ≥ 60\n",
    "\n",
    "#### \"C\" if marks ≥ 40\n",
    "\n",
    "#### \"F\" otherwise"
   ]
  },
  {
   "cell_type": "code",
   "execution_count": 10,
   "id": "43f1d21d",
   "metadata": {},
   "outputs": [
    {
     "name": "stdout",
     "output_type": "stream",
     "text": [
      "Grade: A\n",
      "Grade: B\n",
      "Grade: C\n",
      "Grade: F\n"
     ]
    }
   ],
   "source": [
    "def grade(marks):\n",
    "    if marks >= 80:\n",
    "        print(\"Grade: A\")\n",
    "    elif marks >= 60:\n",
    "        print(\"Grade: B\")\n",
    "    elif marks >= 40:\n",
    "        print(\"Grade: C\")\n",
    "    else:\n",
    "        print(\"Grade: F\")\n",
    "grade(85)\n",
    "grade(75)\n",
    "grade(55)\n",
    "grade(35)"
   ]
  }
 ],
 "metadata": {
  "kernelspec": {
   "display_name": "Python 3",
   "language": "python",
   "name": "python3"
  },
  "language_info": {
   "codemirror_mode": {
    "name": "ipython",
    "version": 3
   },
   "file_extension": ".py",
   "mimetype": "text/x-python",
   "name": "python",
   "nbconvert_exporter": "python",
   "pygments_lexer": "ipython3",
   "version": "3.13.3"
  }
 },
 "nbformat": 4,
 "nbformat_minor": 5
}
