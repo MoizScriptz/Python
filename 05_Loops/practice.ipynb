{
 "cells": [
  {
   "cell_type": "markdown",
   "id": "88b14f18",
   "metadata": {
    "notebookRunGroups": {
     "groupValue": "1"
    }
   },
   "source": [
    "## Question:\n",
    "#### Print numbers from 1 to 10 using a for loop."
   ]
  },
  {
   "cell_type": "code",
   "execution_count": 1,
   "id": "4aebae00",
   "metadata": {},
   "outputs": [
    {
     "name": "stdout",
     "output_type": "stream",
     "text": [
      "1\n",
      "2\n",
      "3\n",
      "4\n",
      "5\n",
      "6\n",
      "7\n",
      "8\n",
      "9\n",
      "10\n"
     ]
    }
   ],
   "source": [
    "for i in range(1,11):\n",
    "    print(i)"
   ]
  },
  {
   "cell_type": "markdown",
   "id": "a29adec6",
   "metadata": {},
   "source": [
    "### Question:\n",
    "#### Print even numbers between 1 to 10 using a while loop.\n"
   ]
  },
  {
   "cell_type": "code",
   "execution_count": 10,
   "id": "fad8cfed",
   "metadata": {},
   "outputs": [
    {
     "name": "stdout",
     "output_type": "stream",
     "text": [
      "2\n",
      "4\n",
      "6\n",
      "8\n",
      "10\n"
     ]
    }
   ],
   "source": [
    "x = 1\n",
    "while x <= 10:\n",
    "    if x %2 == 0 :\n",
    "        print(x)\n",
    "    x +=1\n",
    "    "
   ]
  },
  {
   "cell_type": "markdown",
   "id": "21c3a571",
   "metadata": {},
   "source": [
    "### Question:\n",
    "#### You have a list: colors = [\"red\", \"green\", \"blue\"]\n",
    "#### Print each color in uppercase (like RED, GREEN, etc)."
   ]
  },
  {
   "cell_type": "code",
   "execution_count": 3,
   "id": "9adb1edf",
   "metadata": {},
   "outputs": [
    {
     "name": "stdout",
     "output_type": "stream",
     "text": [
      "RED\n",
      "GREEN\n",
      "BLUE\n"
     ]
    }
   ],
   "source": [
    "colors = [\"red\", \"green\", \"blue\"]\n",
    "for color in colors:\n",
    "    print(color.upper())"
   ]
  },
  {
   "cell_type": "markdown",
   "id": "ca185115",
   "metadata": {},
   "source": [
    "### Question:\n",
    "#### You have a dictionary of a product:"
   ]
  },
  {
   "cell_type": "code",
   "execution_count": 6,
   "id": "fb503f52",
   "metadata": {},
   "outputs": [
    {
     "name": "stdout",
     "output_type": "stream",
     "text": [
      "name : Laptop\n",
      "price : 75000\n",
      "brand : Dell\n"
     ]
    }
   ],
   "source": [
    "product = {\"name\": \"Laptop\", \"price\": 75000, \"brand\": \"Dell\"}\n",
    "\n",
    "for key ,value in product.items():\n",
    "    print(f\"{key} : {value}\")"
   ]
  },
  {
   "cell_type": "markdown",
   "id": "9d702738",
   "metadata": {},
   "source": [
    "### Question:\n",
    "#### Use a loop to print numbers from 1 to 10.\n",
    "#### Stop the loop if the number is 6.\n"
   ]
  },
  {
   "cell_type": "code",
   "execution_count": 7,
   "id": "5163097e",
   "metadata": {},
   "outputs": [
    {
     "name": "stdout",
     "output_type": "stream",
     "text": [
      "1\n",
      "2\n",
      "3\n",
      "4\n",
      "5\n"
     ]
    }
   ],
   "source": [
    "for i in range(1,11):\n",
    "    if i == 6:\n",
    "        break\n",
    "    print(i)"
   ]
  },
  {
   "cell_type": "markdown",
   "id": "8fa59997",
   "metadata": {},
   "source": [
    "### Question:\n",
    "#### Print numbers from 1 to 5, but skip 2 using continue."
   ]
  },
  {
   "cell_type": "code",
   "execution_count": 8,
   "id": "d7ff9064",
   "metadata": {},
   "outputs": [
    {
     "name": "stdout",
     "output_type": "stream",
     "text": [
      "1\n",
      "3\n",
      "4\n",
      "5\n"
     ]
    }
   ],
   "source": [
    "for i in range(1,6):\n",
    "    if i == 2:\n",
    "        continue\n",
    "    print(i)"
   ]
  },
  {
   "cell_type": "markdown",
   "id": "38da335e",
   "metadata": {},
   "source": [
    "### Question:\n",
    "#### Print the multiplication table of 5 using a nested loop format like this:"
   ]
  },
  {
   "cell_type": "code",
   "execution_count": null,
   "id": "43c78e1f",
   "metadata": {},
   "outputs": [
    {
     "name": "stdout",
     "output_type": "stream",
     "text": [
      "3 X 1 = 3\n",
      "3 X 2 = 6\n",
      "3 X 3 = 9\n",
      "3 X 4 = 12\n",
      "3 X 5 = 15\n",
      "3 X 6 = 18\n",
      "3 X 7 = 21\n",
      "3 X 8 = 24\n",
      "3 X 9 = 27\n",
      "3 X 10 = 30\n"
     ]
    }
   ],
   "source": [
    "tables = int(input(\"Enter number than print table: \"))\n",
    "for i in range(1, 11):\n",
    "    print(f\"{tables} X {i} = {tables*i}\")\n",
    "    "
   ]
  }
 ],
 "metadata": {
  "kernelspec": {
   "display_name": "Python 3",
   "language": "python",
   "name": "python3"
  },
  "language_info": {
   "codemirror_mode": {
    "name": "ipython",
    "version": 3
   },
   "file_extension": ".py",
   "mimetype": "text/x-python",
   "name": "python",
   "nbconvert_exporter": "python",
   "pygments_lexer": "ipython3",
   "version": "3.13.3"
  }
 },
 "nbformat": 4,
 "nbformat_minor": 5
}
