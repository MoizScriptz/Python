{
 "cells": [
  {
   "cell_type": "markdown",
   "id": "6fabcf09",
   "metadata": {},
   "source": [
    "##### Create a class named Book that has two attributes: title and author. Then create an object and display its details."
   ]
  },
  {
   "cell_type": "code",
   "execution_count": 1,
   "id": "9125ce09",
   "metadata": {},
   "outputs": [],
   "source": [
    "class book:\n",
    "    def __init__ (self, title, author):\n",
    "        self.title = title\n",
    "        self.author = author\n",
    "\n",
    "    def display_info(self):\n",
    "        print(f\"The Book Title is {self.title} and the Author is {self.author}\")\n",
    "        "
   ]
  },
  {
   "cell_type": "code",
   "execution_count": 3,
   "id": "2df34f96",
   "metadata": {},
   "outputs": [
    {
     "name": "stdout",
     "output_type": "stream",
     "text": [
      "The Book Title is Python Programming and the Author is John Doe\n"
     ]
    }
   ],
   "source": [
    "b1 = book(\"Python Programming\", \"John Doe\")\n",
    "b1.display_info()"
   ]
  },
  {
   "cell_type": "markdown",
   "id": "0e60c543",
   "metadata": {
    "notebookRunGroups": {
     "groupValue": "1"
    }
   },
   "source": [
    "##### Write a class Car that takes brand and year in its constructor and displays the information using a method."
   ]
  },
  {
   "cell_type": "code",
   "execution_count": 5,
   "id": "cf7eb39f",
   "metadata": {},
   "outputs": [
    {
     "name": "stdout",
     "output_type": "stream",
     "text": [
      "The Car name is Sunata, The car brand is Hundiya and The car model is 2025\n"
     ]
    }
   ],
   "source": [
    "class car:\n",
    "    def __init__(self, name, brand, year):\n",
    "        self.name = name\n",
    "        self.brand = brand\n",
    "        self.year = year\n",
    "    def display_info(self):\n",
    "        print(f\"The Car name is {self.name}, The car brand is {self.brand} and The car model is {self.year}\")\n",
    "\n",
    "c1 = car(\"Sunata\", \"Hundiya\", 2025)\n",
    "c1.display_info()"
   ]
  },
  {
   "cell_type": "markdown",
   "id": "ca33b4d7",
   "metadata": {},
   "source": [
    "##### Modify the Student class (from your example) so that it also takes a grade and prints all three: name, course, and grade."
   ]
  },
  {
   "cell_type": "code",
   "execution_count": 8,
   "id": "4f83fb42",
   "metadata": {},
   "outputs": [
    {
     "name": "stdout",
     "output_type": "stream",
     "text": [
      "Student Name: Alice \n",
      " Course: Computer Science \n",
      " Grade: A\n",
      " \n"
     ]
    }
   ],
   "source": [
    "class Student:\n",
    "    def __init__(self, name, course, grade):\n",
    "        self.name = name\n",
    "        self.course = course\n",
    "        self.grade = grade\n",
    "\n",
    "    def display_info(self):\n",
    "        print(f\"Student Name: {self.name} \\n Course: {self.course} \\n Grade: {self.grade}\\n \")\n",
    "\n",
    "s1 = Student(\"Alice\", \"Computer Science\", \"A\")  \n",
    "s1.display_info()"
   ]
  },
  {
   "cell_type": "markdown",
   "id": "196e3c05",
   "metadata": {},
   "source": [
    "##### Create a class BankAccount that:\n",
    "* Takes account_number and balance\n",
    "* Has a method deposit() to add money\n",
    "* Has a method withdraw() to subtract money if balance is enough\n",
    "* Has a method show_balance() to display the balance\n",
    "\n"
   ]
  },
  {
   "cell_type": "code",
   "execution_count": 9,
   "id": "0424baab",
   "metadata": {},
   "outputs": [
    {
     "name": "stdout",
     "output_type": "stream",
     "text": [
      "Deposited: 500. New Balance: 1500\n",
      "Withdrew: 200. New Balance: 1300\n",
      "Current Balance: 1300\n"
     ]
    }
   ],
   "source": [
    "class BankAccount:\n",
    "    def __init__(self, account_number, balance):\n",
    "        self.account_number = account_number\n",
    "        self.balance = balance\n",
    "\n",
    "    def deposit(self, amount):\n",
    "        self.balance += amount\n",
    "        print(f\"Deposited: {amount}. New Balance: {self.balance}\")\n",
    "\n",
    "    def withdraw(self, amount):\n",
    "        if amount <= self.balance:\n",
    "            self.balance -= amount\n",
    "            print(f\"Withdrew: {amount}. New Balance: {self.balance}\")\n",
    "        else:\n",
    "            print(\"Insufficient funds\")\n",
    "\n",
    "    def show_balance(self):\n",
    "        print(f\"Current Balance: {self.balance}\")\n",
    "\n",
    "account = BankAccount(\"123456789\", 1000)\n",
    "account.deposit(500)\n",
    "account.withdraw(200)\n",
    "account.show_balance()"
   ]
  }
 ],
 "metadata": {
  "kernelspec": {
   "display_name": "Python 3",
   "language": "python",
   "name": "python3"
  },
  "language_info": {
   "codemirror_mode": {
    "name": "ipython",
    "version": 3
   },
   "file_extension": ".py",
   "mimetype": "text/x-python",
   "name": "python",
   "nbconvert_exporter": "python",
   "pygments_lexer": "ipython3",
   "version": "3.13.3"
  }
 },
 "nbformat": 4,
 "nbformat_minor": 5
}
