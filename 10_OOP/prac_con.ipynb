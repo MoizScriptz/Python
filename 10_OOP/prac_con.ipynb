{
 "cells": [
  {
   "cell_type": "markdown",
   "id": "6cadd3a9",
   "metadata": {
    "notebookRunGroups": {
     "groupValue": "1"
    }
   },
   "source": [
    "##### Create a class Employee with name and position. Then write a method to update the position."
   ]
  },
  {
   "cell_type": "code",
   "execution_count": 1,
   "id": "6ac16ec1",
   "metadata": {},
   "outputs": [
    {
     "name": "stdout",
     "output_type": "stream",
     "text": [
      "Updated position for sara to Data Science\n"
     ]
    }
   ],
   "source": [
    "class Employee:\n",
    "    def __init__(self, name ,position):\n",
    "        self.name = name\n",
    "        self.position = position\n",
    "    def update_position(self, new_position):\n",
    "        self.position = new_position\n",
    "        print(f\"Updated position for {self.name} to {self.position}\")\n",
    "\n",
    "e1 = Employee(\"sara\", \"Python\")\n",
    "e1.update_position(\"Data Science\")"
   ]
  }
 ],
 "metadata": {
  "kernelspec": {
   "display_name": "Python 3",
   "language": "python",
   "name": "python3"
  },
  "language_info": {
   "codemirror_mode": {
    "name": "ipython",
    "version": 3
   },
   "file_extension": ".py",
   "mimetype": "text/x-python",
   "name": "python",
   "nbconvert_exporter": "python",
   "pygments_lexer": "ipython3",
   "version": "3.13.3"
  }
 },
 "nbformat": 4,
 "nbformat_minor": 5
}
