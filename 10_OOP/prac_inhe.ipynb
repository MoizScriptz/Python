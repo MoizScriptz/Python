{
 "cells": [
  {
   "cell_type": "markdown",
   "id": "bcae6b93",
   "metadata": {},
   "source": [
    "👩‍🏫 Create a class Teacher that inherits from Person and adds a subject field.\n",
    "\n",
    "✍ Create a method show_teacher() that shows name and subject.\n",
    "\n",
    "✅ Create an object of Teacher and call show_teacher()."
   ]
  },
  {
   "cell_type": "code",
   "execution_count": null,
   "id": "65a8dde2",
   "metadata": {},
   "outputs": [
    {
     "name": "stdout",
     "output_type": "stream",
     "text": [
      "The Teacher name is MoizScript and the subject is Python\n"
     ]
    }
   ],
   "source": [
    "class Teacher():\n",
    "    def __init__(self, name ):\n",
    "        self.name = name\n",
    "    \n",
    "class Subject(Teacher):\n",
    "    def __init__(self, name, subject):\n",
    "        super().__init__(name)\n",
    "        self.subject = subject\n",
    "    def show_detail(self):\n",
    "        print(f\"The Teacher name is {self.name} and the subject is {self.subject}\")\n",
    "T1  = Subject(\"MoizScript\", \"Python\")\n",
    "T1.show_detail()"
   ]
  }
 ],
 "metadata": {
  "kernelspec": {
   "display_name": "Python 3",
   "language": "python",
   "name": "python3"
  },
  "language_info": {
   "codemirror_mode": {
    "name": "ipython",
    "version": 3
   },
   "file_extension": ".py",
   "mimetype": "text/x-python",
   "name": "python",
   "nbconvert_exporter": "python",
   "pygments_lexer": "ipython3",
   "version": "3.13.3"
  }
 },
 "nbformat": 4,
 "nbformat_minor": 5
}
