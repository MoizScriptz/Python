{
 "cells": [
  {
   "cell_type": "markdown",
   "id": "fb5e5749",
   "metadata": {
    "notebookRunGroups": {
     "groupValue": "1"
    }
   },
   "source": [
    "##### 🔒 Create a class UserProfile with private variable __email and a method to set and get the email.\n",
    "##### 🔐 Try to directly access __email outside the class. What happens?\n",
    "##### ✍ Write a method to update the email only if it contains \"@\"."
   ]
  },
  {
   "cell_type": "code",
   "execution_count": 6,
   "id": "26946aaf",
   "metadata": {},
   "outputs": [
    {
     "name": "stdout",
     "output_type": "stream",
     "text": [
      "moizScriptz@gmail.com\n"
     ]
    }
   ],
   "source": [
    "class UserProfile:\n",
    "    def __init__(self,name ,email):\n",
    "        self.name = name\n",
    "        self.__email = email\n",
    "    def set_email(self, email):\n",
    "        if \"@\" in email:\n",
    "            self.__email = email\n",
    "        else:\n",
    "            print(\"Invalid email address\")\n",
    "    def get_email(self):\n",
    "        return self.__email\n",
    "\n",
    "\n",
    "person1 = UserProfile(\"MoizScriptz\", \"moizScriptz@gmail.com\")\n",
    "print(person1.get_email())\n",
    "# print(person1.__email)\n"
   ]
  }
 ],
 "metadata": {
  "kernelspec": {
   "display_name": "Python 3",
   "language": "python",
   "name": "python3"
  },
  "language_info": {
   "codemirror_mode": {
    "name": "ipython",
    "version": 3
   },
   "file_extension": ".py",
   "mimetype": "text/x-python",
   "name": "python",
   "nbconvert_exporter": "python",
   "pygments_lexer": "ipython3",
   "version": "3.13.3"
  }
 },
 "nbformat": 4,
 "nbformat_minor": 5
}
