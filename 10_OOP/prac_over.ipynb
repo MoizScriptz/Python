{
 "cells": [
  {
   "cell_type": "markdown",
   "id": "57eb85a5",
   "metadata": {
    "notebookRunGroups": {
     "groupValue": "1"
    }
   },
   "source": [
    "🐦 Create a class Bird with method speak() that prints \"Bird chirping\".\n",
    "\n",
    "🦉 Create a class Owl that inherits from Bird and overrides speak() to say \"Hoo hoo!\".\n",
    "\n",
    "🧪 Create objects of both classes and call their speak() methods.\n",
    "\n"
   ]
  },
  {
   "cell_type": "code",
   "execution_count": 2,
   "id": "6fde9b1e",
   "metadata": {},
   "outputs": [
    {
     "name": "stdout",
     "output_type": "stream",
     "text": [
      "Hoo hoo\n"
     ]
    }
   ],
   "source": [
    "class Bird:\n",
    "    def speak(self):\n",
    "        print(\"Bird chirps\")\n",
    "class Owl(Bird):\n",
    "    def speak(self):\n",
    "        print(\"Hoo hoo\")\n",
    "b = Owl()\n",
    "b.speak()"
   ]
  }
 ],
 "metadata": {
  "kernelspec": {
   "display_name": "Python 3",
   "language": "python",
   "name": "python3"
  },
  "language_info": {
   "codemirror_mode": {
    "name": "ipython",
    "version": 3
   },
   "file_extension": ".py",
   "mimetype": "text/x-python",
   "name": "python",
   "nbconvert_exporter": "python",
   "pygments_lexer": "ipython3",
   "version": "3.13.3"
  }
 },
 "nbformat": 4,
 "nbformat_minor": 5
}
