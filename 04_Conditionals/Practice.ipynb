{
 "cells": [
  {
   "cell_type": "markdown",
   "id": "f98e4abc",
   "metadata": {},
   "source": [
    "## Question:\n",
    "#### Check if a person is 60 or older. If yes, print: \"You are a senior citizen\"?"
   ]
  },
  {
   "cell_type": "code",
   "execution_count": 6,
   "id": "5a9f6be4",
   "metadata": {},
   "outputs": [
    {
     "name": "stdout",
     "output_type": "stream",
     "text": [
      "You are Young.\n"
     ]
    }
   ],
   "source": [
    "user_age = int(input(\"Please Enter your Age: \"))\n",
    "if user_age >= 60 :\n",
    "    print(\"You are a senior citizen.\")\n",
    "else:\n",
    "    print(\"You are Young.\")"
   ]
  },
  {
   "cell_type": "markdown",
   "id": "ccced8c0",
   "metadata": {},
   "source": [
    "## Question:\n",
    "#### Check if marks are 33 or more. If yes, print \"Pass\", otherwise print \"Fail\"."
   ]
  },
  {
   "cell_type": "code",
   "execution_count": 9,
   "id": "0cd40aad",
   "metadata": {},
   "outputs": [
    {
     "name": "stdout",
     "output_type": "stream",
     "text": [
      "You are passed.\n"
     ]
    }
   ],
   "source": [
    "userMarks = int(input(\"Enter your Number: \"))\n",
    "if userMarks >= 33:\n",
    "    print(\"You are passed.\")\n",
    "else:\n",
    "    print(\"Ypu are Failed.\")"
   ]
  },
  {
   "cell_type": "markdown",
   "id": "7fa826a7",
   "metadata": {},
   "source": [
    "## Question:\n",
    "#### Check the value of temperature and print the appropriate message:\n",
    "\n",
    "* 40 or more → \"🔥 It's very hot\"\n",
    "\n",
    "* 30 or more → \"☀️ It's sunny\"\n",
    "\n",
    "* 20 or more → \"🌤️ Nice weather\"\n",
    "\n",
    "* Less than 20 → \"❄️ It's cold\""
   ]
  },
  {
   "cell_type": "code",
   "execution_count": 11,
   "id": "40765dfb",
   "metadata": {},
   "outputs": [
    {
     "name": "stdout",
     "output_type": "stream",
     "text": [
      "🌤️ Nice weather\n"
     ]
    }
   ],
   "source": [
    "temperature = int(input(\"Enter the room temperature: \"))\n",
    "if temperature >= 40:\n",
    "    print(\"🔥 It's very hot\")\n",
    "elif temperature >= 30:\n",
    "    print(\"☀️ It's sunny\")\n",
    "elif temperature >= 20:\n",
    "    print(\"🌤️ Nice weather\")\n",
    "else:\n",
    "    print(\"❄️ It's cold\")"
   ]
  },
  {
   "cell_type": "markdown",
   "id": "71aa7e2d",
   "metadata": {},
   "source": [
    "## Question:\n",
    "#### Check if username is \"moiz\" and password is \"4321\".\n",
    "#### If both are correct, print \"Login Successful\".\n",
    "#### Otherwise, print an error message."
   ]
  },
  {
   "cell_type": "code",
   "execution_count": 14,
   "id": "9fbe136d",
   "metadata": {},
   "outputs": [
    {
     "name": "stdout",
     "output_type": "stream",
     "text": [
      "login Successful\n"
     ]
    }
   ],
   "source": [
    "username = str(input(\"Enter your username: \"))\n",
    "password = int(input(\"Enter your password: \"))\n",
    "if username == \"moiz\"and password == 4321:\n",
    "    print(\"login Successful\")\n",
    "else:   \n",
    "    print(\"Invalid username or password\")"
   ]
  },
  {
   "cell_type": "markdown",
   "id": "a02a1fa2",
   "metadata": {},
   "source": [
    "## Question:\n",
    "#### Check if num is between 10 and 20 and it is an even number.\n",
    "#### If true, print \"✅ Valid even number\"."
   ]
  },
  {
   "cell_type": "code",
   "execution_count": 15,
   "id": "0b28fc94",
   "metadata": {},
   "outputs": [
    {
     "name": "stdout",
     "output_type": "stream",
     "text": [
      "✅ Valid even number\n"
     ]
    }
   ],
   "source": [
    "num = int(input(\"Enter a number: \"))\n",
    "if 10 <= num <= 20 and num % 2 == 0:\n",
    "    print(\"✅ Valid even number\")\n",
    "else:\n",
    "    print(\"❌ Invalid number\")"
   ]
  },
  {
   "cell_type": "markdown",
   "id": "a282539d",
   "metadata": {},
   "source": [
    "## Question:\n",
    "#### If speed is 60 or less, print \"Safe Speed\", otherwise print \"Over Speed\"."
   ]
  },
  {
   "cell_type": "code",
   "execution_count": 16,
   "id": "4cd4327b",
   "metadata": {},
   "outputs": [
    {
     "name": "stdout",
     "output_type": "stream",
     "text": [
      "Over Speed\n"
     ]
    }
   ],
   "source": [
    "speed = int(input(\"Enter the speed: \"))\n",
    "print(\"Safe Speed\" if speed <= 60 else \"Over Speed\")"
   ]
  }
 ],
 "metadata": {
  "kernelspec": {
   "display_name": "Python 3",
   "language": "python",
   "name": "python3"
  },
  "language_info": {
   "codemirror_mode": {
    "name": "ipython",
    "version": 3
   },
   "file_extension": ".py",
   "mimetype": "text/x-python",
   "name": "python",
   "nbconvert_exporter": "python",
   "pygments_lexer": "ipython3",
   "version": "3.13.3"
  }
 },
 "nbformat": 4,
 "nbformat_minor": 5
}
